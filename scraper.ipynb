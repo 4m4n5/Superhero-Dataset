{
 "cells": [
  {
   "cell_type": "code",
   "execution_count": 2,
   "metadata": {},
   "outputs": [],
   "source": [
    "# Initial imports\n",
    "import numpy as np\n",
    "import pandas as pd \n",
    "from pandas import DataFrame, Series\n",
    "import matplotlib.pyplot as plt\n",
    "import seaborn as sns\n",
    "from scipy import stats\n",
    "%matplotlib inline\n",
    "\n",
    "import random\n",
    "import urllib.request\n",
    "import requests\n",
    "from bs4 import BeautifulSoup\n",
    "import warnings\n",
    "warnings.filterwarnings('ignore')"
   ]
  },
  {
   "cell_type": "code",
   "execution_count": 3,
   "metadata": {},
   "outputs": [],
   "source": [
    "base_url = \"https://www.superherodb.com/characters/\"\n",
    "list_chars_cols = ['Name', 'Url']\n",
    "\n",
    "url = base_url \n",
    "source_code = requests.get(url)\n",
    "plain_text = source_code.text\n",
    "soup = BeautifulSoup(plain_text, \"html.parser\")"
   ]
  },
  {
   "cell_type": "code",
   "execution_count": 4,
   "metadata": {},
   "outputs": [],
   "source": [
    "list_of_supers = soup.findAll('li', {'class': 'char-li'})"
   ]
  },
  {
   "cell_type": "code",
   "execution_count": 5,
   "metadata": {},
   "outputs": [
    {
     "data": {
      "text/plain": [
       "743"
      ]
     },
     "execution_count": 5,
     "metadata": {},
     "output_type": "execute_result"
    }
   ],
   "source": [
    "len(list_of_supers)"
   ]
  },
  {
   "cell_type": "code",
   "execution_count": 6,
   "metadata": {},
   "outputs": [],
   "source": [
    "data = DataFrame(columns=list_chars_cols)\n",
    "for l in list_of_supers:\n",
    "    temp = DataFrame([[l.text, l.find('a').get('href')]])\n",
    "    temp.columns = list_chars_cols\n",
    "    data = data.append(temp, ignore_index=1)"
   ]
  },
  {
   "cell_type": "code",
   "execution_count": 7,
   "metadata": {},
   "outputs": [
    {
     "data": {
      "text/html": [
       "<div>\n",
       "<style scoped>\n",
       "    .dataframe tbody tr th:only-of-type {\n",
       "        vertical-align: middle;\n",
       "    }\n",
       "\n",
       "    .dataframe tbody tr th {\n",
       "        vertical-align: top;\n",
       "    }\n",
       "\n",
       "    .dataframe thead th {\n",
       "        text-align: right;\n",
       "    }\n",
       "</style>\n",
       "<table border=\"1\" class=\"dataframe\">\n",
       "  <thead>\n",
       "    <tr style=\"text-align: right;\">\n",
       "      <th></th>\n",
       "      <th>Name</th>\n",
       "      <th>Url</th>\n",
       "    </tr>\n",
       "  </thead>\n",
       "  <tbody>\n",
       "    <tr>\n",
       "      <th>0</th>\n",
       "      <td>3-D Man</td>\n",
       "      <td>/3-d-man/10-226/</td>\n",
       "    </tr>\n",
       "    <tr>\n",
       "      <th>1</th>\n",
       "      <td>A-Bomb</td>\n",
       "      <td>/a-bomb/10-10060/</td>\n",
       "    </tr>\n",
       "    <tr>\n",
       "      <th>2</th>\n",
       "      <td>Abe Sapien</td>\n",
       "      <td>/abe-sapien/10-956/</td>\n",
       "    </tr>\n",
       "    <tr>\n",
       "      <th>3</th>\n",
       "      <td>Abin Sur</td>\n",
       "      <td>/abin-sur/10-1460/</td>\n",
       "    </tr>\n",
       "    <tr>\n",
       "      <th>4</th>\n",
       "      <td>Abomination</td>\n",
       "      <td>/abomination/10-1/</td>\n",
       "    </tr>\n",
       "  </tbody>\n",
       "</table>\n",
       "</div>"
      ],
      "text/plain": [
       "          Name                  Url\n",
       "0      3-D Man     /3-d-man/10-226/\n",
       "1       A-Bomb    /a-bomb/10-10060/\n",
       "2   Abe Sapien  /abe-sapien/10-956/\n",
       "3     Abin Sur   /abin-sur/10-1460/\n",
       "4  Abomination   /abomination/10-1/"
      ]
     },
     "execution_count": 7,
     "metadata": {},
     "output_type": "execute_result"
    }
   ],
   "source": [
    "data.head()"
   ]
  },
  {
   "cell_type": "code",
   "execution_count": 8,
   "metadata": {},
   "outputs": [],
   "source": [
    "char_base_url = 'https://www.superherodb.com'\n",
    "stats_list = ['Url', 'Intelligence', 'Strength', 'Speed', 'Durability', 'Power', \n",
    "              'Combat', 'Full name', 'Alter Egos', 'Aliases', 'Place of birth', \n",
    "              'First appearance', 'Creator', 'Alignment', 'Gender', 'Race', 'Height', \n",
    "              'Weight', 'Eye color', 'Hair color', 'Occupation', 'Base', 'Team Affiliation', 'Relatives']\n",
    "stat_data = DataFrame(columns=stats_list)\n",
    "for index, row in data.iterrows():\n",
    "    stat_map = {'Url': str(row['Url'])}\n",
    "    char_url = char_base_url + str(row['Url'])\n",
    "    source_code = requests.get(char_url)\n",
    "    plain_text = source_code.text\n",
    "    soup = BeautifulSoup(plain_text, \"html.parser\")\n",
    "    attrs = soup.findAll('div', {'class': 'gridbarholder'})\n",
    "    personal = soup.findAll('table', {'class': 'table'})\n",
    "    for a in attrs[:6]:\n",
    "        stat_name = a.find('div', {'class': 'gridbarlabel'}).text\n",
    "        stat_value = a.find('div', {'class': 'gridbarvalue'}).text\n",
    "        stat_map[str(stat_name)] = stat_value\n",
    "    for p in personal[:3]:\n",
    "        trs = p.findAll('tr')\n",
    "        for tr in trs:\n",
    "            stat_map[str(tr.find('td').text.strip())] = str(tr.findAll('td')[1].text.strip())\n",
    "    stat_map[str(personal[3].findAll('td')[0].text.strip())] = str(personal[3].findAll('td')[1].text.strip())\n",
    "    stat_map[str(personal[3].findAll('td')[2].text.strip())] = str(personal[3].findAll('td')[3].text.strip())\n",
    "    for key in stat_map.keys():\n",
    "        stat_data.loc[index,key] = stat_map[key]"
   ]
  },
  {
   "cell_type": "code",
   "execution_count": 72,
   "metadata": {},
   "outputs": [],
   "source": [
    "full_data = pd.merge(data, stat_data, left_index=True, right_index=True)"
   ]
  },
  {
   "cell_type": "code",
   "execution_count": 73,
   "metadata": {},
   "outputs": [],
   "source": [
    "full_data.drop('Url_x', 1,  inplace=True)\n",
    "f = full_data.rename(index=str, columns={\"Url_y\": \"Url\"})"
   ]
  },
  {
   "cell_type": "code",
   "execution_count": 74,
   "metadata": {},
   "outputs": [],
   "source": [
    "f[['Intelligence', 'Strength', \n",
    "   'Speed', 'Durability', \n",
    "   'Power', 'Combat']] = f[['Intelligence', 'Strength', 'Speed', 'Durability', 'Power', 'Combat']].astype(float)\n"
   ]
  },
  {
   "cell_type": "code",
   "execution_count": 75,
   "metadata": {},
   "outputs": [],
   "source": [
    "f['Total Power'] = f['Intelligence'] +  f['Strength'] + f['Speed'] + f['Durability'] + f['Power'] + f['Combat']"
   ]
  },
  {
   "cell_type": "code",
   "execution_count": 76,
   "metadata": {},
   "outputs": [],
   "source": [
    "f['Total Power'].fillna(0, inplace=True)"
   ]
  },
  {
   "cell_type": "code",
   "execution_count": 77,
   "metadata": {},
   "outputs": [],
   "source": [
    "sorted_d = f.sort_values('Total Power', ascending=False)"
   ]
  },
  {
   "cell_type": "code",
   "execution_count": 81,
   "metadata": {},
   "outputs": [
    {
     "data": {
      "text/plain": [
       "'DC Comics'"
      ]
     },
     "execution_count": 81,
     "metadata": {},
     "output_type": "execute_result"
    }
   ],
   "source": [
    "sorted_d['Creator'][:10][0]"
   ]
  },
  {
   "cell_type": "code",
   "execution_count": 109,
   "metadata": {},
   "outputs": [],
   "source": [
    "def get_char_data(char_name, dataset):\n",
    "    d = False\n",
    "    if not data.loc[data['Name'] == char_name.title()].empty:\n",
    "        d = data.loc[data['Name'] == char_name.title()]\n",
    "    return d"
   ]
  },
  {
   "cell_type": "code",
   "execution_count": 110,
   "metadata": {},
   "outputs": [],
   "source": [
    "d =get_char_data('batman', f)"
   ]
  },
  {
   "cell_type": "code",
   "execution_count": 112,
   "metadata": {},
   "outputs": [
    {
     "data": {
      "text/plain": [
       "'Batman'"
      ]
     },
     "execution_count": 112,
     "metadata": {},
     "output_type": "execute_result"
    }
   ],
   "source": [
    "d.iloc[0]['Name']"
   ]
  },
  {
   "cell_type": "code",
   "execution_count": null,
   "metadata": {},
   "outputs": [],
   "source": []
  }
 ],
 "metadata": {
  "kernelspec": {
   "display_name": "Python 3",
   "language": "python",
   "name": "python3"
  },
  "language_info": {
   "codemirror_mode": {
    "name": "ipython",
    "version": 3
   },
   "file_extension": ".py",
   "mimetype": "text/x-python",
   "name": "python",
   "nbconvert_exporter": "python",
   "pygments_lexer": "ipython3",
   "version": "3.6.5"
  }
 },
 "nbformat": 4,
 "nbformat_minor": 2
}
